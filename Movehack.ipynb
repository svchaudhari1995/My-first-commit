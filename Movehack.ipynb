{
  "nbformat": 4,
  "nbformat_minor": 0,
  "metadata": {
    "colab": {
      "name": "Untitled1.ipynb",
      "version": "0.3.2",
      "provenance": [],
      "include_colab_link": true
    },
    "kernelspec": {
      "name": "python3",
      "display_name": "Python 3"
    }
  },
  "cells": [
    {
      "cell_type": "markdown",
      "metadata": {
        "id": "view-in-github",
        "colab_type": "text"
      },
      "source": [
        "[View in Colaboratory](https://colab.research.google.com/github/svchaudhari1995/My-first-commit/blob/master/Movehack.ipynb)"
      ]
    },
    {
      "metadata": {
        "id": "2wefBflAg6BW",
        "colab_type": "code",
        "colab": {
          "base_uri": "https://localhost:8080/",
          "height": 322
        },
        "outputId": "ec1146f6-8084-4065-e184-d73ca715921e"
      },
      "cell_type": "code",
      "source": [
        "# !wget --no-check-certificate 'https://docs.google.com/uc?export=download&id=1-Y8brWA6_Hj8WuY01FtKAJG3ln_quRWI' -O hackmove\n",
        "#   wget --no-check-certificate 'https://docs.google.com/uc?export=download&id=FILEID' -O FILENAME\n",
        "\n",
        "# https://docs.google.com/uc?export=download&id=1-Y8brWA6_Hj8WuY01FtKAJG3ln_quRWI\n",
        "\n",
        "!wget --load-cookies /tmp/cookies.txt \"https://docs.google.com/uc?export=download&confirm=$(wget --quiet --save-cookies /tmp/cookies.txt --keep-session-cookies --no-check-certificate 'https://docs.google.com/uc?export=download&id=1-Y8brWA6_Hj8WuY01FtKAJG3ln_quRWI' -O- | sed -rn 's/.*confirm=([0-9A-Za-z_]+).*/\\1\\n/p')&id=1-Y8brWA6_Hj8WuY01FtKAJG3ln_quRWI\" -O myhack && rm -rf /tmp/cookies.txt\n"
      ],
      "execution_count": 28,
      "outputs": [
        {
          "output_type": "stream",
          "text": [
            "--2018-08-19 09:49:20--  https://docs.google.com/uc?export=download&confirm=t5Gs&id=1-Y8brWA6_Hj8WuY01FtKAJG3ln_quRWI\r\n",
            "Resolving docs.google.com (docs.google.com)... 74.125.197.138, 74.125.197.139, 74.125.197.102, ...\r\n",
            "Connecting to docs.google.com (docs.google.com)|74.125.197.138|:443... connected.\n",
            "HTTP request sent, awaiting response... 302 Moved Temporarily\n",
            "Location: https://doc-08-8c-docs.googleusercontent.com/docs/securesc/ha0ro937gcuc7l7deffksulhg5h7mbp1/1n995so1d328f721i57jctk9bgc0ufse/1534665600000/17226435966834450280/*/1-Y8brWA6_Hj8WuY01FtKAJG3ln_quRWI?e=download [following]\n",
            "Warning: wildcards not supported in HTTP.\n",
            "--2018-08-19 09:49:20--  https://doc-08-8c-docs.googleusercontent.com/docs/securesc/ha0ro937gcuc7l7deffksulhg5h7mbp1/1n995so1d328f721i57jctk9bgc0ufse/1534665600000/17226435966834450280/*/1-Y8brWA6_Hj8WuY01FtKAJG3ln_quRWI?e=download\n",
            "Resolving doc-08-8c-docs.googleusercontent.com (doc-08-8c-docs.googleusercontent.com)... 74.125.195.132, 2607:f8b0:400e:c09::84\n",
            "Connecting to doc-08-8c-docs.googleusercontent.com (doc-08-8c-docs.googleusercontent.com)|74.125.195.132|:443... connected.\n",
            "HTTP request sent, awaiting response... 200 OK\n",
            "Length: unspecified [application/x-zip-compressed]\n",
            "Saving to: ‘myhack’\n",
            "\n",
            "myhack                  [<=>                 ]   6.03G  21.1MB/s    in 3m 30s  \n",
            "\n",
            "2018-08-19 09:52:50 (29.4 MB/s) - ‘myhack’ saved [6471482442]\n",
            "\n"
          ],
          "name": "stdout"
        }
      ]
    },
    {
      "metadata": {
        "id": "QIhcxsf7hC8B",
        "colab_type": "code",
        "colab": {
          "base_uri": "https://localhost:8080/",
          "height": 185
        },
        "outputId": "dc815ad2-33ae-4224-d7ce-75ebfc1b85ca"
      },
      "cell_type": "code",
      "source": [
        "!ls -R"
      ],
      "execution_count": 39,
      "outputs": [
        {
          "output_type": "stream",
          "text": [
            ".:\r\n",
            "datalab   sample_data\r\n",
            "hack\t  uc?export=download&confirm=At2d&id=1-Y8brWA6_Hj8WuY01FtKAJG3ln_quRWI\r\n",
            "hackmove  view\r\n",
            "myhack\r\n",
            "\r\n",
            "./sample_data:\r\n",
            "anscombe.json\t\t      mnist_test.csv\r\n",
            "california_housing_test.csv   mnist_train_small.csv\r\n",
            "california_housing_train.csv  README.md\r\n"
          ],
          "name": "stdout"
        }
      ]
    },
    {
      "metadata": {
        "id": "Ov89pmuvhKAg",
        "colab_type": "code",
        "colab": {}
      },
      "cell_type": "code",
      "source": [
        "!cd sample_data/"
      ],
      "execution_count": 0,
      "outputs": []
    },
    {
      "metadata": {
        "id": "iXJU5eKfhMIm",
        "colab_type": "code",
        "colab": {
          "base_uri": "https://localhost:8080/",
          "height": 34
        },
        "outputId": "c51e4dc2-75f8-4bab-c7db-2057b7594c1c"
      },
      "cell_type": "code",
      "source": [
        "!pwd"
      ],
      "execution_count": 42,
      "outputs": [
        {
          "output_type": "stream",
          "text": [
            "/content\r\n"
          ],
          "name": "stdout"
        }
      ]
    },
    {
      "metadata": {
        "id": "qAqQhpaIh1Yo",
        "colab_type": "code",
        "colab": {
          "base_uri": "https://localhost:8080/",
          "height": 34
        },
        "outputId": "da2893b4-67a8-4e15-9473-b529d8c7c29e"
      },
      "cell_type": "code",
      "source": [
        ""
      ],
      "execution_count": 8,
      "outputs": [
        {
          "output_type": "stream",
          "text": [
            "/bin/sh: 1: cd..: not found\r\n"
          ],
          "name": "stdout"
        }
      ]
    },
    {
      "metadata": {
        "id": "vOzvEXrNh3SB",
        "colab_type": "code",
        "colab": {}
      },
      "cell_type": "code",
      "source": [
        ""
      ],
      "execution_count": 0,
      "outputs": []
    },
    {
      "metadata": {
        "id": "ZL_lRMAEh5L4",
        "colab_type": "code",
        "colab": {}
      },
      "cell_type": "code",
      "source": [
        ""
      ],
      "execution_count": 0,
      "outputs": []
    }
  ]
}